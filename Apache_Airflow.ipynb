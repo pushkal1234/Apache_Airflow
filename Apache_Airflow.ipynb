{
  "nbformat": 4,
  "nbformat_minor": 0,
  "metadata": {
    "colab": {
      "name": "Apache Airflow.ipynb",
      "provenance": [],
      "authorship_tag": "ABX9TyPMqGFdAAHaZ/VJJCwpNXEE",
      "include_colab_link": true
    },
    "kernelspec": {
      "name": "python3",
      "display_name": "Python 3"
    },
    "language_info": {
      "name": "python"
    }
  },
  "cells": [
    {
      "cell_type": "markdown",
      "metadata": {
        "id": "view-in-github",
        "colab_type": "text"
      },
      "source": [
        "<a href=\"https://colab.research.google.com/github/pushkal1234/Apache_Airflow/blob/main/Apache_Airflow.ipynb\" target=\"_parent\"><img src=\"https://colab.research.google.com/assets/colab-badge.svg\" alt=\"Open In Colab\"/></a>"
      ]
    },
    {
      "cell_type": "code",
      "metadata": {
        "id": "Cg357zrLS4TN",
        "colab": {
          "base_uri": "https://localhost:8080/",
          "height": 131
        },
        "outputId": "0b39d94e-673d-4fc5-b2c4-ea5eb93599a2"
      },
      "source": [
        "virtualenv venv \n",
        "source venv/bin/activate #Activate virtual environment\n",
        "pip install apache-airflow"
      ],
      "execution_count": 3,
      "outputs": [
        {
          "output_type": "error",
          "ename": "SyntaxError",
          "evalue": "ignored",
          "traceback": [
            "\u001b[0;36m  File \u001b[0;32m\"<ipython-input-3-15d6eaf985eb>\"\u001b[0;36m, line \u001b[0;32m1\u001b[0m\n\u001b[0;31m    virtualenv venv\u001b[0m\n\u001b[0m                  ^\u001b[0m\n\u001b[0;31mSyntaxError\u001b[0m\u001b[0;31m:\u001b[0m invalid syntax\n"
          ]
        }
      ]
    },
    {
      "cell_type": "code",
      "metadata": {
        "id": "W2F6FDWdUTs_"
      },
      "source": [
        "(venv) $ pip install apache-airflow[postgres,gcp]"
      ],
      "execution_count": null,
      "outputs": []
    },
    {
      "cell_type": "code",
      "metadata": {
        "id": "Ogj6PosxUYY_"
      },
      "source": [
        "(venv) $ export AIRFLOW_HOME=airflow_home/\n",
        "(venv) $ airflow initdb"
      ],
      "execution_count": null,
      "outputs": []
    },
    {
      "cell_type": "code",
      "metadata": {
        "id": "gjKY09gaUaWK"
      },
      "source": [
        "dags_folder = /path/to/airflow_home/dags\n",
        "# The executor class that airflow should use. Choices include\n",
        "# SequentialExecutor, LocalExecutor, CeleryExecutor, DaskExecutor, KubernetesExecutor\n",
        "executor = LocalExecutor\n",
        "sql_alchemy_conn = mysql+pymysql://<username>:<password>@localhost:3306/<database name>\n",
        "# Whether to load the examples that ship with Airflow. It's good to\n",
        "# get started, but you probably want to set this to False in a production\n",
        "# environment\n",
        "load_examples = False"
      ],
      "execution_count": null,
      "outputs": []
    },
    {
      "cell_type": "code",
      "metadata": {
        "id": "NckxFC4hUaZO"
      },
      "source": [
        "import feedparser\n",
        "from airflow import DAG\n",
        "# Operators; we need this to operate!\n",
        "from airflow.operators.bash_operator import BashOperator\n",
        "from airflow.operators.python_operator import PythonOperator\n",
        "from airflow.utils.dates import days_ago\n",
        "from textblob import TextBlob as tb\n",
        "import re"
      ],
      "execution_count": null,
      "outputs": []
    },
    {
      "cell_type": "code",
      "metadata": {
        "id": "kd3aSu4-Uacr"
      },
      "source": [
        "# These args will get passed on to each operator\n",
        "# You can override them on a per-task basis during operator initialization\n",
        "default_args = {\n",
        "    'owner': 'airflow',\n",
        "    'depends_on_past': False,\n",
        "    'start_date': days_ago(2),\n",
        "    'email': ['airflow@example.com'],\n",
        "    'email_on_failure': False,\n",
        "    'email_on_retry': False,\n",
        "    'retries': 1,\n",
        "    'retry_delay': timedelta(minutes=1),\n",
        "    # 'queue': 'bash_queue',\n",
        "    # 'pool': 'backfill',\n",
        "    # 'priority_weight': 10,\n",
        "    # 'end_date': datetime(2016, 1, 1),\n",
        "    # 'wait_for_downstream': False,\n",
        "    # 'dag': dag,\n",
        "    # 'sla': timedelta(hours=2),\n",
        "    # 'execution_timeout': timedelta(seconds=300),\n",
        "    # 'on_failure_callback': some_function,\n",
        "    # 'on_success_callback': some_other_function,\n",
        "    # 'on_retry_callback': another_function,\n",
        "    # 'sla_miss_callback': yet_another_function,\n",
        "    # 'trigger_rule': 'all_success'\n",
        "}"
      ],
      "execution_count": null,
      "outputs": []
    },
    {
      "cell_type": "code",
      "metadata": {
        "id": "4XxmMn6FUagR"
      },
      "source": [
        "def rss_feed_scraper(url):\n",
        "    feed = feedparser.parse(url)\n",
        "\n",
        "    # number of stories\n",
        "    numStories = len(feed['entries'])\n",
        "\n",
        "    # list to contain polarity of stories\n",
        "    final = []\n",
        "\n",
        "    for i in range(0, numStories):\n",
        "        # print(feed['entries'][i])\n",
        "        # initial description\n",
        "        descInit = feed['entries'][i]['summary_detail']['value']\n",
        "        # cleaning out the img tag\n",
        "        # descClean = re.sub('\\<img.*$', '', descInit)\n",
        "        cleanr = re.compile('<.*?>')\n",
        "        descClean = re.sub(cleanr, '', descInit)\n",
        "        # final description\n",
        "        desc = tb(descClean)\n",
        "        print(\"Description >>>>>>>>>>>>>>>>>>>>\")\n",
        "        print(desc)\n",
        "        # title of the entry\n",
        "        title = tb(feed['entries'][i]['title'])\n",
        "        # final string which contains description and headline to get a better polarity result\n",
        "        if not title.ends_with(\".\"):\n",
        "            title = title + \".\"\n",
        "        completeString = title + \" \" + desc\n",
        "        print(\"Complete String >>>>>>>>>>>>>>>>\")\n",
        "        print(completeString)\n",
        "        # appending story headline and descrition polarity to final list\n",
        "        final.append(completeString.sentiment.polarity)\n",
        "\n",
        "    # polarity calculations\n",
        "    finalPolarity = sum(final) / len(final)\n",
        "    print(min(final))\n",
        "    worstPolarity = final.index(min(final))\n",
        "    print(max(final))\n",
        "    bestPolarity = final.index(max(final))\n",
        "\n",
        "    print(finalPolarity)\n",
        "    print(worstPolarity)\n",
        "    print(bestPolarity)"
      ],
      "execution_count": null,
      "outputs": []
    },
    {
      "cell_type": "code",
      "metadata": {
        "id": "uRS8zoToUakA"
      },
      "source": [
        "dag = DAG(\n",
        "    'news_fetch',\n",
        "    default_args=default_args,\n",
        "    description='News Fetch DAG',\n",
        "    schedule_interval=timedelta(minutes=1),\n",
        ")"
      ],
      "execution_count": null,
      "outputs": []
    },
    {
      "cell_type": "code",
      "metadata": {
        "id": "jMxPZh8PUamM"
      },
      "source": [
        "t1 = PythonOperator(\n",
        "    task_id='fox_news_parser',\n",
        "    depends_on_past=False,\n",
        "    python_callable=rss_feed_scraper,\n",
        "    op_kwargs={'url': \"http://rss.cnn.com/rss/cnn_topstories.rss\"},\n",
        "    # retries=3,\n",
        "    dag=dag,\n",
        ")\n",
        "\n",
        "t2 = PythonOperator(\n",
        "    task_id='cnn_news_parser',\n",
        "    depends_on_past=False,\n",
        "    python_callable=rss_feed_scraper,\n",
        "    op_kwargs={'url': \"http://feeds.foxnews.com/foxnews/latest\"},\n",
        "    # retries=3,\n",
        "    dag=dag,\n",
        ")"
      ],
      "execution_count": null,
      "outputs": []
    },
    {
      "cell_type": "code",
      "metadata": {
        "id": "aSDcsLaGWHUx"
      },
      "source": [
        "(venv) $ airflow webserver"
      ],
      "execution_count": null,
      "outputs": []
    },
    {
      "cell_type": "code",
      "metadata": {
        "id": "C_TE2tMUWHYZ"
      },
      "source": [
        "(venv) $ export AIRFLOW_HOME=airflow_home/\n",
        "(venv) $ airflow scheduler"
      ],
      "execution_count": null,
      "outputs": []
    },
    {
      "cell_type": "code",
      "metadata": {
        "id": "Wj2VMTYEWH03"
      },
      "source": [
        ""
      ],
      "execution_count": null,
      "outputs": []
    },
    {
      "cell_type": "code",
      "metadata": {
        "id": "bPgkze4RWH4O"
      },
      "source": [
        ""
      ],
      "execution_count": null,
      "outputs": []
    }
  ]
}